{
 "cells": [
  {
   "cell_type": "code",
   "execution_count": 1,
   "metadata": {},
   "outputs": [],
   "source": [
    "# IMPORTS\n",
    "import numpy as np\n",
    "import pandas as pd\n",
    "\n",
    "#Fin Data Sources\n",
    "import yfinance as yf\n",
    "import pandas_datareader as pdr\n",
    "\n",
    "#Data viz\n",
    "import plotly.graph_objs as go\n",
    "import plotly.express as px\n",
    "\n",
    "import time\n",
    "from datetime import date"
   ]
  },
  {
   "cell_type": "code",
   "execution_count": 26,
   "metadata": {},
   "outputs": [
    {
     "name": "stdout",
     "output_type": "stream",
     "text": [
      "Year = 2024; month= 4; day=22\n",
      "Period for indexes: 1974-04-22 to 2024-04-22 \n"
     ]
    }
   ],
   "source": [
    "end = date.today()\n",
    "print(f'Year = {end.year}; month= {end.month}; day={end.day}')\n",
    "\n",
    "start = date(year=end.year-50, month=end.month, day=end.day)\n",
    "print(f'Period for indexes: {start} to {end} ')"
   ]
  },
  {
   "cell_type": "code",
   "execution_count": 3,
   "metadata": {},
   "outputs": [],
   "source": [
    "# Real Potential Gross Domestic Product (GDPPOT), Billions of Chained 2017 Dollars, QUARTERLY\n",
    "# https://fred.stlouisfed.org/series/GDPC1\n",
    "gdpc1 = pdr.DataReader(\"GDPC1\", \"fred\", start=start)"
   ]
  },
  {
   "cell_type": "code",
   "execution_count": 4,
   "metadata": {},
   "outputs": [
    {
     "data": {
      "text/html": [
       "<div>\n",
       "<style scoped>\n",
       "    .dataframe tbody tr th:only-of-type {\n",
       "        vertical-align: middle;\n",
       "    }\n",
       "\n",
       "    .dataframe tbody tr th {\n",
       "        vertical-align: top;\n",
       "    }\n",
       "\n",
       "    .dataframe thead th {\n",
       "        text-align: right;\n",
       "    }\n",
       "</style>\n",
       "<table border=\"1\" class=\"dataframe\">\n",
       "  <thead>\n",
       "    <tr style=\"text-align: right;\">\n",
       "      <th></th>\n",
       "      <th>GDPC1</th>\n",
       "    </tr>\n",
       "    <tr>\n",
       "      <th>DATE</th>\n",
       "      <th></th>\n",
       "    </tr>\n",
       "  </thead>\n",
       "  <tbody>\n",
       "    <tr>\n",
       "      <th>2022-10-01</th>\n",
       "      <td>21989.981</td>\n",
       "    </tr>\n",
       "    <tr>\n",
       "      <th>2023-01-01</th>\n",
       "      <td>22112.329</td>\n",
       "    </tr>\n",
       "    <tr>\n",
       "      <th>2023-04-01</th>\n",
       "      <td>22225.350</td>\n",
       "    </tr>\n",
       "    <tr>\n",
       "      <th>2023-07-01</th>\n",
       "      <td>22490.692</td>\n",
       "    </tr>\n",
       "    <tr>\n",
       "      <th>2023-10-01</th>\n",
       "      <td>22679.255</td>\n",
       "    </tr>\n",
       "  </tbody>\n",
       "</table>\n",
       "</div>"
      ],
      "text/plain": [
       "                GDPC1\n",
       "DATE                 \n",
       "2022-10-01  21989.981\n",
       "2023-01-01  22112.329\n",
       "2023-04-01  22225.350\n",
       "2023-07-01  22490.692\n",
       "2023-10-01  22679.255"
      ]
     },
     "execution_count": 4,
     "metadata": {},
     "output_type": "execute_result"
    }
   ],
   "source": [
    "gdpc1.tail()"
   ]
  },
  {
   "cell_type": "code",
   "execution_count": 6,
   "metadata": {},
   "outputs": [
    {
     "data": {
      "text/html": [
       "<div>\n",
       "<style scoped>\n",
       "    .dataframe tbody tr th:only-of-type {\n",
       "        vertical-align: middle;\n",
       "    }\n",
       "\n",
       "    .dataframe tbody tr th {\n",
       "        vertical-align: top;\n",
       "    }\n",
       "\n",
       "    .dataframe thead th {\n",
       "        text-align: right;\n",
       "    }\n",
       "</style>\n",
       "<table border=\"1\" class=\"dataframe\">\n",
       "  <thead>\n",
       "    <tr style=\"text-align: right;\">\n",
       "      <th></th>\n",
       "      <th>GDPC1</th>\n",
       "      <th>gdpc1_us_yoy</th>\n",
       "    </tr>\n",
       "    <tr>\n",
       "      <th>DATE</th>\n",
       "      <th></th>\n",
       "      <th></th>\n",
       "    </tr>\n",
       "  </thead>\n",
       "  <tbody>\n",
       "    <tr>\n",
       "      <th>2022-10-01</th>\n",
       "      <td>21989.981</td>\n",
       "      <td>0.006517</td>\n",
       "    </tr>\n",
       "    <tr>\n",
       "      <th>2023-01-01</th>\n",
       "      <td>22112.329</td>\n",
       "      <td>0.017179</td>\n",
       "    </tr>\n",
       "    <tr>\n",
       "      <th>2023-04-01</th>\n",
       "      <td>22225.350</td>\n",
       "      <td>0.023825</td>\n",
       "    </tr>\n",
       "    <tr>\n",
       "      <th>2023-07-01</th>\n",
       "      <td>22490.692</td>\n",
       "      <td>0.029269</td>\n",
       "    </tr>\n",
       "    <tr>\n",
       "      <th>2023-10-01</th>\n",
       "      <td>22679.255</td>\n",
       "      <td>0.031345</td>\n",
       "    </tr>\n",
       "  </tbody>\n",
       "</table>\n",
       "</div>"
      ],
      "text/plain": [
       "                GDPC1  gdpc1_us_yoy\n",
       "DATE                               \n",
       "2022-10-01  21989.981      0.006517\n",
       "2023-01-01  22112.329      0.017179\n",
       "2023-04-01  22225.350      0.023825\n",
       "2023-07-01  22490.692      0.029269\n",
       "2023-10-01  22679.255      0.031345"
      ]
     },
     "execution_count": 6,
     "metadata": {},
     "output_type": "execute_result"
    }
   ],
   "source": [
    "gdpc1['gdpc1_us_yoy'] = gdpc1.GDPC1/gdpc1.GDPC1.shift(4)-1\n",
    "gdpc1.tail()"
   ]
  },
  {
   "cell_type": "markdown",
   "metadata": {},
   "source": [
    "Question 1: Find the average YoY growth in 2023 (average from 4 YoY numbers)"
   ]
  },
  {
   "cell_type": "code",
   "execution_count": 24,
   "metadata": {},
   "outputs": [
    {
     "data": {
      "text/plain": [
       "2.5404433928676253"
      ]
     },
     "execution_count": 24,
     "metadata": {},
     "output_type": "execute_result"
    }
   ],
   "source": [
    "gdpc1[gdpc1.index.year == 2023]['gdpc1_us_yoy'].mean() * 100"
   ]
  },
  {
   "cell_type": "markdown",
   "metadata": {},
   "source": [
    "Question 2: Find the min value of (dgs10-dgs2) after since year 2000 (2000-01-01) and write it down as an answer, round to 1 digit after the decimal point."
   ]
  },
  {
   "cell_type": "code",
   "execution_count": 27,
   "metadata": {},
   "outputs": [],
   "source": [
    "dgs2 = pdr.DataReader(\"DGS2\", \"fred\", start=start)\n",
    "dgs10 = pdr.DataReader(\"DGS10\", \"fred\", start=start)"
   ]
  },
  {
   "cell_type": "code",
   "execution_count": 32,
   "metadata": {},
   "outputs": [
    {
     "data": {
      "text/plain": [
       "-1.0800000000000005"
      ]
     },
     "execution_count": 32,
     "metadata": {},
     "output_type": "execute_result"
    }
   ],
   "source": [
    "(dgs10[dgs10.index.year >= 2000]['DGS10'] - dgs2[dgs2.index.year >= 2000]['DGS2']).min()"
   ]
  },
  {
   "cell_type": "markdown",
   "metadata": {},
   "source": [
    "Question 3: Compare S&P 500 and IPC Mexico indexes by the 5 year growth and write down the largest value as an answer (%)"
   ]
  },
  {
   "cell_type": "code",
   "execution_count": 36,
   "metadata": {},
   "outputs": [
    {
     "name": "stderr",
     "output_type": "stream",
     "text": [
      "[*********************100%%**********************]  1 of 1 completed\n",
      "[*********************100%%**********************]  1 of 1 completed\n"
     ]
    }
   ],
   "source": [
    "# https://finance.yahoo.com/quote/%5EGSPC/\n",
    "# SNP - SNP Real Time Price. Currency in USD\n",
    "snp500_daily_non_delayed = yf.download(tickers = \"^GSPC\",\n",
    "                     period = \"max\",\n",
    "                     interval = \"1d\")\n",
    "ipc_mexico = yf.download(tickers = \"^MXX\",\n",
    "                     period = \"max\",\n",
    "                     interval = \"1d\")"
   ]
  },
  {
   "cell_type": "code",
   "execution_count": 35,
   "metadata": {},
   "outputs": [
    {
     "data": {
      "text/html": [
       "<div>\n",
       "<style scoped>\n",
       "    .dataframe tbody tr th:only-of-type {\n",
       "        vertical-align: middle;\n",
       "    }\n",
       "\n",
       "    .dataframe tbody tr th {\n",
       "        vertical-align: top;\n",
       "    }\n",
       "\n",
       "    .dataframe thead th {\n",
       "        text-align: right;\n",
       "    }\n",
       "</style>\n",
       "<table border=\"1\" class=\"dataframe\">\n",
       "  <thead>\n",
       "    <tr style=\"text-align: right;\">\n",
       "      <th></th>\n",
       "      <th>Open</th>\n",
       "      <th>High</th>\n",
       "      <th>Low</th>\n",
       "      <th>Close</th>\n",
       "      <th>Adj Close</th>\n",
       "      <th>Volume</th>\n",
       "    </tr>\n",
       "    <tr>\n",
       "      <th>Date</th>\n",
       "      <th></th>\n",
       "      <th></th>\n",
       "      <th></th>\n",
       "      <th></th>\n",
       "      <th></th>\n",
       "      <th></th>\n",
       "    </tr>\n",
       "  </thead>\n",
       "  <tbody>\n",
       "    <tr>\n",
       "      <th>2024-04-15</th>\n",
       "      <td>5149.669922</td>\n",
       "      <td>5168.430176</td>\n",
       "      <td>5052.470215</td>\n",
       "      <td>5061.819824</td>\n",
       "      <td>5061.819824</td>\n",
       "      <td>3950210000</td>\n",
       "    </tr>\n",
       "    <tr>\n",
       "      <th>2024-04-16</th>\n",
       "      <td>5064.589844</td>\n",
       "      <td>5079.839844</td>\n",
       "      <td>5039.830078</td>\n",
       "      <td>5051.410156</td>\n",
       "      <td>5051.410156</td>\n",
       "      <td>4006200000</td>\n",
       "    </tr>\n",
       "    <tr>\n",
       "      <th>2024-04-17</th>\n",
       "      <td>5068.970215</td>\n",
       "      <td>5077.959961</td>\n",
       "      <td>5007.250000</td>\n",
       "      <td>5022.209961</td>\n",
       "      <td>5022.209961</td>\n",
       "      <td>3596130000</td>\n",
       "    </tr>\n",
       "    <tr>\n",
       "      <th>2024-04-18</th>\n",
       "      <td>5031.520020</td>\n",
       "      <td>5056.660156</td>\n",
       "      <td>5001.890137</td>\n",
       "      <td>5011.120117</td>\n",
       "      <td>5011.120117</td>\n",
       "      <td>3619760000</td>\n",
       "    </tr>\n",
       "    <tr>\n",
       "      <th>2024-04-19</th>\n",
       "      <td>5005.439941</td>\n",
       "      <td>5019.020020</td>\n",
       "      <td>4953.560059</td>\n",
       "      <td>4967.229980</td>\n",
       "      <td>4967.229980</td>\n",
       "      <td>3878750000</td>\n",
       "    </tr>\n",
       "  </tbody>\n",
       "</table>\n",
       "</div>"
      ],
      "text/plain": [
       "                   Open         High          Low        Close    Adj Close  \\\n",
       "Date                                                                          \n",
       "2024-04-15  5149.669922  5168.430176  5052.470215  5061.819824  5061.819824   \n",
       "2024-04-16  5064.589844  5079.839844  5039.830078  5051.410156  5051.410156   \n",
       "2024-04-17  5068.970215  5077.959961  5007.250000  5022.209961  5022.209961   \n",
       "2024-04-18  5031.520020  5056.660156  5001.890137  5011.120117  5011.120117   \n",
       "2024-04-19  5005.439941  5019.020020  4953.560059  4967.229980  4967.229980   \n",
       "\n",
       "                Volume  \n",
       "Date                    \n",
       "2024-04-15  3950210000  \n",
       "2024-04-16  4006200000  \n",
       "2024-04-17  3596130000  \n",
       "2024-04-18  3619760000  \n",
       "2024-04-19  3878750000  "
      ]
     },
     "execution_count": 35,
     "metadata": {},
     "output_type": "execute_result"
    }
   ],
   "source": [
    "snp500_daily_non_delayed.tail()"
   ]
  },
  {
   "cell_type": "code",
   "execution_count": 37,
   "metadata": {},
   "outputs": [
    {
     "data": {
      "text/html": [
       "<div>\n",
       "<style scoped>\n",
       "    .dataframe tbody tr th:only-of-type {\n",
       "        vertical-align: middle;\n",
       "    }\n",
       "\n",
       "    .dataframe tbody tr th {\n",
       "        vertical-align: top;\n",
       "    }\n",
       "\n",
       "    .dataframe thead th {\n",
       "        text-align: right;\n",
       "    }\n",
       "</style>\n",
       "<table border=\"1\" class=\"dataframe\">\n",
       "  <thead>\n",
       "    <tr style=\"text-align: right;\">\n",
       "      <th></th>\n",
       "      <th>Open</th>\n",
       "      <th>High</th>\n",
       "      <th>Low</th>\n",
       "      <th>Close</th>\n",
       "      <th>Adj Close</th>\n",
       "      <th>Volume</th>\n",
       "    </tr>\n",
       "    <tr>\n",
       "      <th>Date</th>\n",
       "      <th></th>\n",
       "      <th></th>\n",
       "      <th></th>\n",
       "      <th></th>\n",
       "      <th></th>\n",
       "      <th></th>\n",
       "    </tr>\n",
       "  </thead>\n",
       "  <tbody>\n",
       "    <tr>\n",
       "      <th>2024-04-15</th>\n",
       "      <td>56536.468750</td>\n",
       "      <td>56709.121094</td>\n",
       "      <td>55924.101562</td>\n",
       "      <td>55984.000000</td>\n",
       "      <td>55984.000000</td>\n",
       "      <td>170645700</td>\n",
       "    </tr>\n",
       "    <tr>\n",
       "      <th>2024-04-16</th>\n",
       "      <td>56009.730469</td>\n",
       "      <td>56148.000000</td>\n",
       "      <td>55626.750000</td>\n",
       "      <td>55797.250000</td>\n",
       "      <td>55797.250000</td>\n",
       "      <td>225862900</td>\n",
       "    </tr>\n",
       "    <tr>\n",
       "      <th>2024-04-17</th>\n",
       "      <td>55788.738281</td>\n",
       "      <td>56090.320312</td>\n",
       "      <td>55383.250000</td>\n",
       "      <td>55415.691406</td>\n",
       "      <td>55415.691406</td>\n",
       "      <td>244258900</td>\n",
       "    </tr>\n",
       "    <tr>\n",
       "      <th>2024-04-18</th>\n",
       "      <td>55597.789062</td>\n",
       "      <td>55941.621094</td>\n",
       "      <td>55585.820312</td>\n",
       "      <td>55739.429688</td>\n",
       "      <td>55739.429688</td>\n",
       "      <td>208671900</td>\n",
       "    </tr>\n",
       "    <tr>\n",
       "      <th>2024-04-19</th>\n",
       "      <td>55811.191406</td>\n",
       "      <td>56036.718750</td>\n",
       "      <td>55579.691406</td>\n",
       "      <td>55862.851562</td>\n",
       "      <td>55862.851562</td>\n",
       "      <td>138617600</td>\n",
       "    </tr>\n",
       "  </tbody>\n",
       "</table>\n",
       "</div>"
      ],
      "text/plain": [
       "                    Open          High           Low         Close  \\\n",
       "Date                                                                 \n",
       "2024-04-15  56536.468750  56709.121094  55924.101562  55984.000000   \n",
       "2024-04-16  56009.730469  56148.000000  55626.750000  55797.250000   \n",
       "2024-04-17  55788.738281  56090.320312  55383.250000  55415.691406   \n",
       "2024-04-18  55597.789062  55941.621094  55585.820312  55739.429688   \n",
       "2024-04-19  55811.191406  56036.718750  55579.691406  55862.851562   \n",
       "\n",
       "               Adj Close     Volume  \n",
       "Date                                 \n",
       "2024-04-15  55984.000000  170645700  \n",
       "2024-04-16  55797.250000  225862900  \n",
       "2024-04-17  55415.691406  244258900  \n",
       "2024-04-18  55739.429688  208671900  \n",
       "2024-04-19  55862.851562  138617600  "
      ]
     },
     "execution_count": 37,
     "metadata": {},
     "output_type": "execute_result"
    }
   ],
   "source": [
    "ipc_mexico.tail()"
   ]
  },
  {
   "cell_type": "markdown",
   "metadata": {},
   "source": [
    "Looking at the last 5 Years data only"
   ]
  },
  {
   "cell_type": "code",
   "execution_count": 38,
   "metadata": {},
   "outputs": [],
   "source": [
    "snp500_daily_non_delayed = snp500_daily_non_delayed[(snp500_daily_non_delayed.index >='2019-04-09') & \n",
    "                                                    (snp500_daily_non_delayed.index <='2024-04-09')]\n",
    "ipc_mexico = ipc_mexico[(ipc_mexico.index >='2019-04-09') & \n",
    "                                                    (ipc_mexico.index <='2024-04-09')]\n"
   ]
  },
  {
   "cell_type": "code",
   "execution_count": 81,
   "metadata": {},
   "outputs": [
    {
     "data": {
      "text/html": [
       "<div>\n",
       "<style scoped>\n",
       "    .dataframe tbody tr th:only-of-type {\n",
       "        vertical-align: middle;\n",
       "    }\n",
       "\n",
       "    .dataframe tbody tr th {\n",
       "        vertical-align: top;\n",
       "    }\n",
       "\n",
       "    .dataframe thead th {\n",
       "        text-align: right;\n",
       "    }\n",
       "</style>\n",
       "<table border=\"1\" class=\"dataframe\">\n",
       "  <thead>\n",
       "    <tr style=\"text-align: right;\">\n",
       "      <th></th>\n",
       "      <th>Open</th>\n",
       "      <th>High</th>\n",
       "      <th>Low</th>\n",
       "      <th>Close</th>\n",
       "      <th>Adj Close</th>\n",
       "      <th>Volume</th>\n",
       "      <th>adj_close_last_year</th>\n",
       "      <th>yoy_growth</th>\n",
       "      <th>adj_close_5_year</th>\n",
       "    </tr>\n",
       "    <tr>\n",
       "      <th>Date</th>\n",
       "      <th></th>\n",
       "      <th></th>\n",
       "      <th></th>\n",
       "      <th></th>\n",
       "      <th></th>\n",
       "      <th></th>\n",
       "      <th></th>\n",
       "      <th></th>\n",
       "      <th></th>\n",
       "    </tr>\n",
       "  </thead>\n",
       "  <tbody>\n",
       "    <tr>\n",
       "      <th>2024-04-03</th>\n",
       "      <td>5194.370117</td>\n",
       "      <td>5228.750000</td>\n",
       "      <td>5194.370117</td>\n",
       "      <td>5211.490234</td>\n",
       "      <td>5211.490234</td>\n",
       "      <td>3703250000</td>\n",
       "      <td>4109.310059</td>\n",
       "      <td>NaN</td>\n",
       "      <td>NaN</td>\n",
       "    </tr>\n",
       "    <tr>\n",
       "      <th>2024-04-04</th>\n",
       "      <td>5244.049805</td>\n",
       "      <td>5256.589844</td>\n",
       "      <td>5146.060059</td>\n",
       "      <td>5147.209961</td>\n",
       "      <td>5147.209961</td>\n",
       "      <td>4075680000</td>\n",
       "      <td>4124.509766</td>\n",
       "      <td>NaN</td>\n",
       "      <td>NaN</td>\n",
       "    </tr>\n",
       "    <tr>\n",
       "      <th>2024-04-05</th>\n",
       "      <td>5158.950195</td>\n",
       "      <td>5222.180176</td>\n",
       "      <td>5157.209961</td>\n",
       "      <td>5204.339844</td>\n",
       "      <td>5204.339844</td>\n",
       "      <td>3386780000</td>\n",
       "      <td>4100.600098</td>\n",
       "      <td>NaN</td>\n",
       "      <td>NaN</td>\n",
       "    </tr>\n",
       "    <tr>\n",
       "      <th>2024-04-08</th>\n",
       "      <td>5211.370117</td>\n",
       "      <td>5219.569824</td>\n",
       "      <td>5197.350098</td>\n",
       "      <td>5202.390137</td>\n",
       "      <td>5202.390137</td>\n",
       "      <td>3278180000</td>\n",
       "      <td>4090.379883</td>\n",
       "      <td>NaN</td>\n",
       "      <td>NaN</td>\n",
       "    </tr>\n",
       "    <tr>\n",
       "      <th>2024-04-09</th>\n",
       "      <td>5217.029785</td>\n",
       "      <td>5224.810059</td>\n",
       "      <td>5160.779785</td>\n",
       "      <td>5209.910156</td>\n",
       "      <td>5209.910156</td>\n",
       "      <td>3400680000</td>\n",
       "      <td>4105.020020</td>\n",
       "      <td>0.810128</td>\n",
       "      <td>2878.199951</td>\n",
       "    </tr>\n",
       "  </tbody>\n",
       "</table>\n",
       "</div>"
      ],
      "text/plain": [
       "                   Open         High          Low        Close    Adj Close  \\\n",
       "Date                                                                          \n",
       "2024-04-03  5194.370117  5228.750000  5194.370117  5211.490234  5211.490234   \n",
       "2024-04-04  5244.049805  5256.589844  5146.060059  5147.209961  5147.209961   \n",
       "2024-04-05  5158.950195  5222.180176  5157.209961  5204.339844  5204.339844   \n",
       "2024-04-08  5211.370117  5219.569824  5197.350098  5202.390137  5202.390137   \n",
       "2024-04-09  5217.029785  5224.810059  5160.779785  5209.910156  5209.910156   \n",
       "\n",
       "                Volume  adj_close_last_year  yoy_growth  adj_close_5_year  \n",
       "Date                                                                       \n",
       "2024-04-03  3703250000          4109.310059         NaN               NaN  \n",
       "2024-04-04  4075680000          4124.509766         NaN               NaN  \n",
       "2024-04-05  3386780000          4100.600098         NaN               NaN  \n",
       "2024-04-08  3278180000          4090.379883         NaN               NaN  \n",
       "2024-04-09  3400680000          4105.020020    0.810128       2878.199951  "
      ]
     },
     "execution_count": 81,
     "metadata": {},
     "output_type": "execute_result"
    }
   ],
   "source": [
    "snp500_daily_non_delayed.tail()"
   ]
  },
  {
   "cell_type": "code",
   "execution_count": 51,
   "metadata": {},
   "outputs": [],
   "source": [
    "# normally 252 trading days\n",
    "snp500_daily_non_delayed['adj_close_5_year'] = snp500_daily_non_delayed['Adj Close'].shift(1258)\n",
    "snp500_daily_non_delayed['yoy_growth'] = snp500_daily_non_delayed['Adj Close'] / snp500_daily_non_delayed['adj_close_5_year'] -1"
   ]
  },
  {
   "cell_type": "code",
   "execution_count": 52,
   "metadata": {},
   "outputs": [
    {
     "data": {
      "text/plain": [
       "Date\n",
       "2019-04-09         NaN\n",
       "2019-04-10         NaN\n",
       "2019-04-11         NaN\n",
       "2019-04-12         NaN\n",
       "2019-04-15         NaN\n",
       "                ...   \n",
       "2024-04-03         NaN\n",
       "2024-04-04         NaN\n",
       "2024-04-05         NaN\n",
       "2024-04-08         NaN\n",
       "2024-04-09    0.810128\n",
       "Name: yoy_growth, Length: 1259, dtype: float64"
      ]
     },
     "execution_count": 52,
     "metadata": {},
     "output_type": "execute_result"
    }
   ],
   "source": [
    "snp500_daily_non_delayed['yoy_growth']"
   ]
  },
  {
   "cell_type": "code",
   "execution_count": 77,
   "metadata": {},
   "outputs": [],
   "source": [
    "end = ipc_mexico[ipc_mexico.index =='2024-04-09']['Adj Close'] "
   ]
  },
  {
   "cell_type": "code",
   "execution_count": 78,
   "metadata": {},
   "outputs": [],
   "source": [
    "start = ipc_mexico[ipc_mexico.index =='2019-04-09']['Adj Close']"
   ]
  },
  {
   "cell_type": "code",
   "execution_count": 79,
   "metadata": {},
   "outputs": [
    {
     "data": {
      "text/plain": [
       "(array([57571.1484375]), array([45151.62890625]))"
      ]
     },
     "execution_count": 79,
     "metadata": {},
     "output_type": "execute_result"
    }
   ],
   "source": [
    "end.values, start.values"
   ]
  },
  {
   "cell_type": "code",
   "execution_count": 80,
   "metadata": {},
   "outputs": [
    {
     "data": {
      "text/plain": [
       "0.27506249125667437"
      ]
     },
     "execution_count": 80,
     "metadata": {},
     "output_type": "execute_result"
    }
   ],
   "source": [
    "end.values[0] / start.values[0] - 1"
   ]
  },
  {
   "cell_type": "markdown",
   "metadata": {},
   "source": [
    "S&P is doing better recently in comparison"
   ]
  },
  {
   "cell_type": "markdown",
   "metadata": {},
   "source": [
    "Question 4.Find the largest range ratio [=(max-min)/max] of Adj.Close prices in 2023"
   ]
  },
  {
   "cell_type": "code",
   "execution_count": 92,
   "metadata": {},
   "outputs": [
    {
     "name": "stderr",
     "output_type": "stream",
     "text": [
      "[*********************100%%**********************]  1 of 1 completed\n",
      "[*********************100%%**********************]  1 of 1 completed\n",
      "[*********************100%%**********************]  1 of 1 completed\n",
      "[*********************100%%**********************]  1 of 1 completed\n",
      "[*********************100%%**********************]  1 of 1 completed\n",
      "[*********************100%%**********************]  1 of 1 completed\n"
     ]
    }
   ],
   "source": [
    "sr_daily = yf.download(tickers = \"2222.SR\",\n",
    "                     period = \"max\",\n",
    "                     interval = \"1d\")\n",
    "\n",
    "brk_daily = yf.download(tickers = \"BRK-B\",\n",
    "                     period = \"max\",\n",
    "                     interval = \"1d\")\n",
    "\n",
    "apple_daily = yf.download(tickers = \"AAPL\",\n",
    "                     period = \"max\",\n",
    "                     interval = \"1d\")\n",
    "\n",
    "msft_daily = yf.download(tickers = \"MSFT\",\n",
    "                     period = \"max\",\n",
    "                     interval = \"1d\")\n",
    "\n",
    "google_daily = yf.download(tickers = \"GOOG\",\n",
    "                     period = \"max\",\n",
    "                     interval = \"1d\")\n",
    "\n",
    "jp_morgan_daily = yf.download(tickers = \"JPM\",\n",
    "                     period = \"max\",\n",
    "                     interval = \"1d\")\n"
   ]
  },
  {
   "cell_type": "code",
   "execution_count": 85,
   "metadata": {},
   "outputs": [
    {
     "data": {
      "text/html": [
       "<div>\n",
       "<style scoped>\n",
       "    .dataframe tbody tr th:only-of-type {\n",
       "        vertical-align: middle;\n",
       "    }\n",
       "\n",
       "    .dataframe tbody tr th {\n",
       "        vertical-align: top;\n",
       "    }\n",
       "\n",
       "    .dataframe thead th {\n",
       "        text-align: right;\n",
       "    }\n",
       "</style>\n",
       "<table border=\"1\" class=\"dataframe\">\n",
       "  <thead>\n",
       "    <tr style=\"text-align: right;\">\n",
       "      <th></th>\n",
       "      <th>Open</th>\n",
       "      <th>High</th>\n",
       "      <th>Low</th>\n",
       "      <th>Close</th>\n",
       "      <th>Adj Close</th>\n",
       "      <th>Volume</th>\n",
       "    </tr>\n",
       "    <tr>\n",
       "      <th>Date</th>\n",
       "      <th></th>\n",
       "      <th></th>\n",
       "      <th></th>\n",
       "      <th></th>\n",
       "      <th></th>\n",
       "      <th></th>\n",
       "    </tr>\n",
       "  </thead>\n",
       "  <tbody>\n",
       "    <tr>\n",
       "      <th>2024-04-15</th>\n",
       "      <td>30.650000</td>\n",
       "      <td>30.799999</td>\n",
       "      <td>30.299999</td>\n",
       "      <td>30.299999</td>\n",
       "      <td>30.299999</td>\n",
       "      <td>16717457</td>\n",
       "    </tr>\n",
       "    <tr>\n",
       "      <th>2024-04-16</th>\n",
       "      <td>30.400000</td>\n",
       "      <td>30.450001</td>\n",
       "      <td>29.799999</td>\n",
       "      <td>29.900000</td>\n",
       "      <td>29.900000</td>\n",
       "      <td>24539116</td>\n",
       "    </tr>\n",
       "    <tr>\n",
       "      <th>2024-04-17</th>\n",
       "      <td>30.049999</td>\n",
       "      <td>30.150000</td>\n",
       "      <td>29.900000</td>\n",
       "      <td>29.950001</td>\n",
       "      <td>29.950001</td>\n",
       "      <td>16440263</td>\n",
       "    </tr>\n",
       "    <tr>\n",
       "      <th>2024-04-18</th>\n",
       "      <td>30.000000</td>\n",
       "      <td>30.049999</td>\n",
       "      <td>29.850000</td>\n",
       "      <td>29.900000</td>\n",
       "      <td>29.900000</td>\n",
       "      <td>7985988</td>\n",
       "    </tr>\n",
       "    <tr>\n",
       "      <th>2024-04-21</th>\n",
       "      <td>30.000000</td>\n",
       "      <td>30.200001</td>\n",
       "      <td>29.900000</td>\n",
       "      <td>30.049999</td>\n",
       "      <td>30.049999</td>\n",
       "      <td>8988623</td>\n",
       "    </tr>\n",
       "  </tbody>\n",
       "</table>\n",
       "</div>"
      ],
      "text/plain": [
       "                 Open       High        Low      Close  Adj Close    Volume\n",
       "Date                                                                       \n",
       "2024-04-15  30.650000  30.799999  30.299999  30.299999  30.299999  16717457\n",
       "2024-04-16  30.400000  30.450001  29.799999  29.900000  29.900000  24539116\n",
       "2024-04-17  30.049999  30.150000  29.900000  29.950001  29.950001  16440263\n",
       "2024-04-18  30.000000  30.049999  29.850000  29.900000  29.900000   7985988\n",
       "2024-04-21  30.000000  30.200001  29.900000  30.049999  30.049999   8988623"
      ]
     },
     "execution_count": 85,
     "metadata": {},
     "output_type": "execute_result"
    }
   ],
   "source": [
    "sr_daily.tail()"
   ]
  },
  {
   "cell_type": "code",
   "execution_count": 98,
   "metadata": {},
   "outputs": [],
   "source": [
    "def get_yearly_data(df, year):\n",
    "    return df[df.index.year == year]\n",
    "    "
   ]
  },
  {
   "cell_type": "code",
   "execution_count": 99,
   "metadata": {},
   "outputs": [],
   "source": [
    "def calculate_llr(df):\n",
    "    llr = (df['Adj Close'].max() - df['Adj Close'].min()) / (df['Adj Close'].max())\n",
    "    return llr \n",
    "    "
   ]
  },
  {
   "cell_type": "code",
   "execution_count": 100,
   "metadata": {},
   "outputs": [],
   "source": [
    "sr_2023 = get_yearly_data(sr_daily, 2023)\n",
    "brk_2023 = get_yearly_data(brk_daily, 2023)\n",
    "apple_2023 = get_yearly_data(apple_daily, 2023)\n",
    "msft_2023 = get_yearly_data(msft_daily, 2023)\n",
    "google_2023 = get_yearly_data(google_daily, 2023)\n",
    "jp_morgan_2023 = get_yearly_data(jp_morgan_daily, 2023)"
   ]
  },
  {
   "cell_type": "code",
   "execution_count": 101,
   "metadata": {},
   "outputs": [],
   "source": [
    "sr_lrr = calculate_llr(sr_2023)\n",
    "brk_llr = calculate_llr(brk_2023)\n",
    "apple_lrr = calculate_llr(apple_2023)\n",
    "msft_lrr = calculate_llr(msft_2023)\n",
    "google_lrr = calculate_llr(google_2023)\n",
    "jp_morgan_lrr = calculate_llr(jp_morgan_2023)"
   ]
  },
  {
   "cell_type": "code",
   "execution_count": 104,
   "metadata": {},
   "outputs": [],
   "source": [
    "top_6 = f\"\"\"52-weeks range ratio of top 6 Companies by earning in 2023: \n",
    "Saudi Aramco: {sr_lrr} \n",
    "Berkshire Hathaway: {brk_llr} \n",
    "Apple: {apple_lrr} \n",
    "Microsoft: {msft_lrr} \n",
    "Google: {google_lrr} \n",
    "jp_morgan: {jp_morgan_lrr}\"\"\"\n"
   ]
  },
  {
   "cell_type": "code",
   "execution_count": 105,
   "metadata": {},
   "outputs": [
    {
     "name": "stdout",
     "output_type": "stream",
     "text": [
      "52-weeks range ratio of top 6 Companies by earning in 2023: \n",
      "Saudi Aramco: 0.21393065379760481 \n",
      "Berkshire Hathaway: 0.20775750091289963 \n",
      "Apple: 0.37244419224463476 \n",
      "Microsoft: 0.4242066515530231 \n",
      "Google: 0.3924520921912013 \n",
      "jp_morgan: 0.28249923173202013\n"
     ]
    }
   ],
   "source": [
    "print(top_6)"
   ]
  },
  {
   "cell_type": "markdown",
   "metadata": {},
   "source": [
    "Question 5. Find the largest dividend yield for the same set of stocks"
   ]
  },
  {
   "cell_type": "code",
   "execution_count": 108,
   "metadata": {},
   "outputs": [],
   "source": [
    "# Get actions, incl.dividends.\n",
    "def get_dividend_data(ticker_name):\n",
    "    dividend_series = yf.Ticker(ticker_name)\n",
    "    return dividend_series.get_dividends()\n"
   ]
  },
  {
   "cell_type": "code",
   "execution_count": 111,
   "metadata": {},
   "outputs": [],
   "source": [
    "sr_dividends = get_dividend_data(\"2222.SR\")\n",
    "brk_dividends =  get_dividend_data(\"BRK-B\")\n",
    "apple_dividends = get_dividend_data(\"AAPL\")\n",
    "msft_dividends = get_dividend_data(\"MSFT\")\n",
    "google_dividends = get_dividend_data(\"GOOG\")\n",
    "jp_morgan_dividends = get_dividend_data(\"JPM\")"
   ]
  },
  {
   "cell_type": "code",
   "execution_count": 117,
   "metadata": {},
   "outputs": [],
   "source": [
    "sr_dividends_2023 = get_yearly_data(sr_dividends, 2023)\n",
    "brk_dividends_2023 = get_yearly_data(brk_dividends, 2023)\n",
    "apple_dividends_2023 = get_yearly_data(apple_dividends, 2023)\n",
    "msft_dividends_2023 = get_yearly_data(msft_dividends, 2023)\n",
    "google_dividends_2023 = get_yearly_data(google_dividends, 2023)\n",
    "jp_morgan_dividends_2023 = get_yearly_data(jp_morgan_dividends, 2023)    \n"
   ]
  },
  {
   "cell_type": "code",
   "execution_count": 122,
   "metadata": {},
   "outputs": [
    {
     "data": {
      "text/plain": [
       "4.05"
      ]
     },
     "execution_count": 122,
     "metadata": {},
     "output_type": "execute_result"
    }
   ],
   "source": [
    "jp_morgan_dividends_2023.values.sum()"
   ]
  },
  {
   "cell_type": "code",
   "execution_count": 128,
   "metadata": {},
   "outputs": [
    {
     "data": {
      "text/plain": [
       "Date\n",
       "2023-12-31    32.828049\n",
       "Name: Adj Close, dtype: float64"
      ]
     },
     "execution_count": 128,
     "metadata": {},
     "output_type": "execute_result"
    }
   ],
   "source": [
    "sr_2023[sr_2023.index == sr_2023.index.max()]['Adj Close']"
   ]
  },
  {
   "cell_type": "code",
   "execution_count": 139,
   "metadata": {},
   "outputs": [],
   "source": [
    "def calculate_div_yeild(div_data, yearly_data):\n",
    "    div_yield = div_data.values.sum() / yearly_data[yearly_data.index == yearly_data.index.max()]['Adj Close']\n",
    "    return div_yield.values[0]"
   ]
  },
  {
   "cell_type": "code",
   "execution_count": 143,
   "metadata": {},
   "outputs": [],
   "source": [
    "sr_dividends_2023_yield = calculate_div_yeild(sr_dividends_2023, sr_2023)\n",
    "brk_dividends_2023_yield = calculate_div_yeild(brk_dividends_2023, brk_2023)\n",
    "apple_dividends_2023_yield = calculate_div_yeild(apple_dividends_2023, apple_2023)\n",
    "msft_dividends_2023_yield = calculate_div_yeild(msft_dividends_2023, msft_2023)\n",
    "google_dividends_2023_yield = calculate_div_yeild(google_dividends_2023, google_2023)\n",
    "jp_morgan_dividends_2023_yield = calculate_div_yeild(jp_morgan_dividends_2023, jp_morgan_2023)    \n"
   ]
  },
  {
   "cell_type": "code",
   "execution_count": 147,
   "metadata": {},
   "outputs": [],
   "source": [
    "top_6_dividend_yields = f\"\"\"Dividend Yield for 2023 of top 6 Companies: \n",
    "Saudi Aramco: {sr_dividends_2023_yield} \n",
    "Berkshire Hathaway: {brk_dividends_2023_yield} \n",
    "Apple: {apple_dividends_2023_yield} \n",
    "Microsoft: {msft_dividends_2023_yield} \n",
    "Google: {google_dividends_2023_yield} \n",
    "jp_morgan: {jp_morgan_dividends_2023_yield}\"\"\""
   ]
  },
  {
   "cell_type": "code",
   "execution_count": 148,
   "metadata": {},
   "outputs": [
    {
     "name": "stdout",
     "output_type": "stream",
     "text": [
      "Dividend Yield for 2023 of top 6 Companies: \n",
      "Saudi Aramco: 0.027743470474138235 \n",
      "Berkshire Hathaway: 0.0 \n",
      "Apple: 0.004940592304162832 \n",
      "Microsoft: 0.007433143940964608 \n",
      "Google: 0.0 \n",
      "jp_morgan: 0.02409608190645897\n"
     ]
    }
   ],
   "source": [
    "print(top_6_dividend_yields)"
   ]
  }
 ],
 "metadata": {
  "kernelspec": {
   "display_name": "base",
   "language": "python",
   "name": "python3"
  },
  "language_info": {
   "codemirror_mode": {
    "name": "ipython",
    "version": 3
   },
   "file_extension": ".py",
   "mimetype": "text/x-python",
   "name": "python",
   "nbconvert_exporter": "python",
   "pygments_lexer": "ipython3",
   "version": "3.11.7"
  }
 },
 "nbformat": 4,
 "nbformat_minor": 2
}
